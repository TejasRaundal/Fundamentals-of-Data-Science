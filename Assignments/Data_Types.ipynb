{
 "cells": [
  {
   "cell_type": "code",
   "execution_count": 13,
   "id": "c7c2ccb6",
   "metadata": {},
   "outputs": [
    {
     "data": {
      "text/html": [
       "<div>\n",
       "<style scoped>\n",
       "    .dataframe tbody tr th:only-of-type {\n",
       "        vertical-align: middle;\n",
       "    }\n",
       "\n",
       "    .dataframe tbody tr th {\n",
       "        vertical-align: top;\n",
       "    }\n",
       "\n",
       "    .dataframe thead th {\n",
       "        text-align: right;\n",
       "    }\n",
       "</style>\n",
       "<table border=\"1\" class=\"dataframe\">\n",
       "  <thead>\n",
       "    <tr style=\"text-align: right;\">\n",
       "      <th></th>\n",
       "      <th>Name</th>\n",
       "      <th>Gender</th>\n",
       "      <th>Education Level</th>\n",
       "      <th>Age</th>\n",
       "      <th>Height (cm)</th>\n",
       "      <th>Married</th>\n",
       "    </tr>\n",
       "  </thead>\n",
       "  <tbody>\n",
       "    <tr>\n",
       "      <th>0</th>\n",
       "      <td>Alice</td>\n",
       "      <td>Female</td>\n",
       "      <td>Bachelor</td>\n",
       "      <td>25</td>\n",
       "      <td>160.5</td>\n",
       "      <td>No</td>\n",
       "    </tr>\n",
       "    <tr>\n",
       "      <th>1</th>\n",
       "      <td>Bob</td>\n",
       "      <td>Male</td>\n",
       "      <td>Master</td>\n",
       "      <td>30</td>\n",
       "      <td>175.2</td>\n",
       "      <td>Yes</td>\n",
       "    </tr>\n",
       "    <tr>\n",
       "      <th>2</th>\n",
       "      <td>Charlie</td>\n",
       "      <td>Male</td>\n",
       "      <td>PhD</td>\n",
       "      <td>45</td>\n",
       "      <td>168.0</td>\n",
       "      <td>Yes</td>\n",
       "    </tr>\n",
       "    <tr>\n",
       "      <th>3</th>\n",
       "      <td>David</td>\n",
       "      <td>Male</td>\n",
       "      <td>Bachelor</td>\n",
       "      <td>22</td>\n",
       "      <td>180.3</td>\n",
       "      <td>No</td>\n",
       "    </tr>\n",
       "  </tbody>\n",
       "</table>\n",
       "</div>"
      ],
      "text/plain": [
       "      Name  Gender Education Level  Age  Height (cm) Married\n",
       "0    Alice  Female        Bachelor   25        160.5      No\n",
       "1      Bob    Male          Master   30        175.2     Yes\n",
       "2  Charlie    Male             PhD   45        168.0     Yes\n",
       "3    David    Male        Bachelor   22        180.3      No"
      ]
     },
     "execution_count": 13,
     "metadata": {},
     "output_type": "execute_result"
    }
   ],
   "source": [
    "import pandas as pd\n",
    "\n",
    "# Sample dataset with qualitative and quantitative data types\n",
    "data = {\n",
    "    'Name': ['Alice', 'Bob', 'Charlie', 'David'],\n",
    "    'Gender': ['Female', 'Male', 'Male', 'Male'],\n",
    "    'Education Level': ['Bachelor', 'Master', 'PhD', 'Bachelor'],\n",
    "    'Age': [25, 30, 45, 22],\n",
    "    'Height (cm)': [160.5, 175.2, 168.0, 180.3],\n",
    "    'Married': ['No', 'Yes', 'Yes', 'No'],\n",
    "}\n",
    "\n",
    "df = pd.DataFrame(data)\n",
    "df"
   ]
  },
  {
   "cell_type": "markdown",
   "id": "80e17854",
   "metadata": {},
   "source": [
    "### Data Types Classification\n",
    "\n",
    "We classify the data into **qualitative** and **quantitative** as follows:\n",
    "\n",
    "| Column           | Type                    | Explanation                                     |\n",
    "|------------------|--------------------------|-------------------------------------------------|\n",
    "| Name             | Qualitative - Nominal    | Just labels (names)                             |\n",
    "| Gender           | Qualitative - Nominal    | Categories with no order                        |\n",
    "| Education Level  | Qualitative - Ordinal    | Ordered categories (Bachelor < Master < PhD)   |\n",
    "| Age              | Quantitative - Discrete  | Countable integers                              |\n",
    "| Height (cm)      | Quantitative - Continuous| Measurable, can include decimals                |\n",
    "| Married          | Qualitative - Nominal    | Binary category (Yes/No)                        |"
   ]
  },
  {
   "cell_type": "code",
   "execution_count": 14,
   "id": "4a4c05db",
   "metadata": {},
   "outputs": [
    {
     "name": "stdout",
     "output_type": "stream",
     "text": [
      "Name: Qualitative - Nominal\n",
      "Gender: Qualitative - Nominal\n",
      "Education Level: Qualitative - Ordinal\n",
      "Age: Quantitative - Discrete\n",
      "Height (cm): Quantitative - Continuous\n",
      "Married: Qualitative - Nominal\n"
     ]
    }
   ],
   "source": [
    "column_types = {\n",
    "    'Name': 'Qualitative - Nominal',\n",
    "    'Gender': 'Qualitative - Nominal',\n",
    "    'Education Level': 'Qualitative - Ordinal',\n",
    "    'Age': 'Quantitative - Discrete',\n",
    "    'Height (cm)': 'Quantitative - Continuous',\n",
    "    'Married': 'Qualitative - Nominal',\n",
    "}\n",
    "\n",
    "for col, dtype in column_types.items():\n",
    "    print(f\"{col}: {dtype}\")"
   ]
  },
  {
   "cell_type": "code",
   "execution_count": 15,
   "metadata": {},
   "outputs": [
    {
     "data": {
      "text/plain": [
       "Name                object\n",
       "Gender              object\n",
       "Education Level     object\n",
       "Age                  int64\n",
       "Height (cm)        float64\n",
       "Married             object\n",
       "dtype: object"
      ]
     },
     "execution_count": 15,
     "metadata": {},
     "output_type": "execute_result"
    }
   ],
   "source": [
    "# Pandas inferred data types\n",
    "df.dtypes"
   ]
  },
  {
   "cell_type": "markdown",
   "id": "6165c92c",
   "metadata": {},
   "source": [
    "# Assignment"
   ]
  },
  {
   "cell_type": "code",
   "execution_count": 16,
   "id": "b75b5f6e",
   "metadata": {},
   "outputs": [],
   "source": [
    "data = {\n",
    "    'Student' : ['A','B','C','D','E'],\n",
    "    'Gender' : ['Male','Female','Male','Female','Male'],\n",
    "    'Stream' : ['Science','Commerce', 'Arts','Science','Commerce'],\n",
    "    'Attendance (%)' : [85,92,75,88,60],\n",
    "    'Study Hours/Week' : [10,14,7,11,6],\n",
    "    'Grade' : ['B','A','C','B','D'],\n",
    "    'Hostel Resident' : ['Yes','No','Yes','No','Yes']\n",
    "}\n",
    "df = pd.DataFrame(data)"
   ]
  },
  {
   "cell_type": "code",
   "execution_count": 17,
   "id": "739bd0c1",
   "metadata": {},
   "outputs": [
    {
     "data": {
      "text/html": [
       "<div>\n",
       "<style scoped>\n",
       "    .dataframe tbody tr th:only-of-type {\n",
       "        vertical-align: middle;\n",
       "    }\n",
       "\n",
       "    .dataframe tbody tr th {\n",
       "        vertical-align: top;\n",
       "    }\n",
       "\n",
       "    .dataframe thead th {\n",
       "        text-align: right;\n",
       "    }\n",
       "</style>\n",
       "<table border=\"1\" class=\"dataframe\">\n",
       "  <thead>\n",
       "    <tr style=\"text-align: right;\">\n",
       "      <th></th>\n",
       "      <th>Student</th>\n",
       "      <th>Gender</th>\n",
       "      <th>Stream</th>\n",
       "      <th>Attendance (%)</th>\n",
       "      <th>Study Hours/Week</th>\n",
       "      <th>Grade</th>\n",
       "      <th>Hostel Resident</th>\n",
       "    </tr>\n",
       "  </thead>\n",
       "  <tbody>\n",
       "    <tr>\n",
       "      <th>0</th>\n",
       "      <td>A</td>\n",
       "      <td>Male</td>\n",
       "      <td>Science</td>\n",
       "      <td>85</td>\n",
       "      <td>10</td>\n",
       "      <td>B</td>\n",
       "      <td>Yes</td>\n",
       "    </tr>\n",
       "    <tr>\n",
       "      <th>1</th>\n",
       "      <td>B</td>\n",
       "      <td>Female</td>\n",
       "      <td>Commerce</td>\n",
       "      <td>92</td>\n",
       "      <td>14</td>\n",
       "      <td>A</td>\n",
       "      <td>No</td>\n",
       "    </tr>\n",
       "    <tr>\n",
       "      <th>2</th>\n",
       "      <td>C</td>\n",
       "      <td>Male</td>\n",
       "      <td>Arts</td>\n",
       "      <td>75</td>\n",
       "      <td>7</td>\n",
       "      <td>C</td>\n",
       "      <td>Yes</td>\n",
       "    </tr>\n",
       "    <tr>\n",
       "      <th>3</th>\n",
       "      <td>D</td>\n",
       "      <td>Female</td>\n",
       "      <td>Science</td>\n",
       "      <td>88</td>\n",
       "      <td>11</td>\n",
       "      <td>B</td>\n",
       "      <td>No</td>\n",
       "    </tr>\n",
       "    <tr>\n",
       "      <th>4</th>\n",
       "      <td>E</td>\n",
       "      <td>Male</td>\n",
       "      <td>Commerce</td>\n",
       "      <td>60</td>\n",
       "      <td>6</td>\n",
       "      <td>D</td>\n",
       "      <td>Yes</td>\n",
       "    </tr>\n",
       "  </tbody>\n",
       "</table>\n",
       "</div>"
      ],
      "text/plain": [
       "  Student  Gender    Stream  Attendance (%)  Study Hours/Week Grade  \\\n",
       "0       A    Male   Science              85                10     B   \n",
       "1       B  Female  Commerce              92                14     A   \n",
       "2       C    Male      Arts              75                 7     C   \n",
       "3       D  Female   Science              88                11     B   \n",
       "4       E    Male  Commerce              60                 6     D   \n",
       "\n",
       "  Hostel Resident  \n",
       "0             Yes  \n",
       "1              No  \n",
       "2             Yes  \n",
       "3              No  \n",
       "4             Yes  "
      ]
     },
     "execution_count": 17,
     "metadata": {},
     "output_type": "execute_result"
    }
   ],
   "source": [
    "df"
   ]
  },
  {
   "cell_type": "markdown",
   "id": "31d945d2",
   "metadata": {},
   "source": [
    "### Data Types Classification\n",
    "\n",
    "Classifying data into their types and subtypes\n",
    "\n",
    "| Column           |Type(Quantitative/Qualitative)| Subtype |\n",
    "|------------------|------------------------------|---------|\n",
    "| Student          |           Qualitative        | Nominal |\n",
    "| Gender           |           Qualitative        | Nominal |\n",
    "| Stream           |           Qualitative        | Nominal |\n",
    "| Attendance (%)   |           Quantitative       | Discrete|\n",
    "| Study Hours/Week |           Quantitative       | Discrete|                \n",
    "| Grade            |           Qualitative        | Ordinal |\n",
    "| Hostel Resident  |           Qualitative        | Nominal |"
   ]
  },
  {
   "cell_type": "code",
   "execution_count": 18,
   "id": "bd866d4e",
   "metadata": {},
   "outputs": [
    {
     "name": "stdout",
     "output_type": "stream",
     "text": [
      "Student: Qualitative - Nominal\n",
      "Gender: Qualitative - Nominal\n",
      "Stream: Qualitative - Ordinal\n",
      "Attendance (%): Quantitative - Discrete\n",
      "Study Hours/Week: Quantitative - Discrete\n",
      "Grade: Qualitative - Ordinal\n",
      "Hostel Resident: Qualitative - Nominal\n"
     ]
    }
   ],
   "source": [
    "column_types = {\n",
    "    'Student': 'Qualitative - Nominal',\n",
    "    'Gender': 'Qualitative - Nominal',\n",
    "    'Stream': 'Qualitative - Ordinal',\n",
    "    'Attendance (%)': 'Quantitative - Discrete',\n",
    "    'Study Hours/Week': 'Quantitative - Discrete',\n",
    "    'Grade': 'Qualitative - Ordinal',\n",
    "    'Hostel Resident' : 'Qualitative - Nominal'\n",
    "}\n",
    "\n",
    "for col, dtype in column_types.items():\n",
    "    print(f\"{col}: {dtype}\")"
   ]
  },
  {
   "cell_type": "code",
   "execution_count": 19,
   "metadata": {},
   "outputs": [
    {
     "data": {
      "text/plain": [
       "Student             object\n",
       "Gender              object\n",
       "Stream              object\n",
       "Attendance (%)       int64\n",
       "Study Hours/Week     int64\n",
       "Grade               object\n",
       "Hostel Resident     object\n",
       "dtype: object"
      ]
     },
     "execution_count": 19,
     "metadata": {},
     "output_type": "execute_result"
    }
   ],
   "source": [
    "df.dtypes"
   ]
  }
 ],
 "metadata": {
  "kernelspec": {
   "display_name": "base",
   "language": "python",
   "name": "python3"
  },
  "language_info": {
   "codemirror_mode": {
    "name": "ipython",
    "version": 3
   },
   "file_extension": ".py",
   "mimetype": "text/x-python",
   "name": "python",
   "nbconvert_exporter": "python",
   "pygments_lexer": "ipython3",
   "version": "3.12.7"
  }
 },
 "nbformat": 4,
 "nbformat_minor": 5
}
