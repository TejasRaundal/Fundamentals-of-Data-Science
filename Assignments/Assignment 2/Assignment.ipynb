{
 "cells": [
  {
   "cell_type": "code",
   "execution_count": 227,
   "id": "10c54071",
   "metadata": {},
   "outputs": [],
   "source": [
    "import pandas as pd"
   ]
  },
  {
   "cell_type": "code",
   "execution_count": 228,
   "id": "32330ad7",
   "metadata": {},
   "outputs": [],
   "source": [
    "data= pd.read_csv(\"employee_dataset.csv\")"
   ]
  },
  {
   "cell_type": "code",
   "execution_count": 229,
   "id": "d7674d77",
   "metadata": {},
   "outputs": [],
   "source": [
    "df = data"
   ]
  },
  {
   "cell_type": "code",
   "execution_count": 230,
   "id": "59d2350c",
   "metadata": {},
   "outputs": [
    {
     "data": {
      "text/html": [
       "<div>\n",
       "<style scoped>\n",
       "    .dataframe tbody tr th:only-of-type {\n",
       "        vertical-align: middle;\n",
       "    }\n",
       "\n",
       "    .dataframe tbody tr th {\n",
       "        vertical-align: top;\n",
       "    }\n",
       "\n",
       "    .dataframe thead th {\n",
       "        text-align: right;\n",
       "    }\n",
       "</style>\n",
       "<table border=\"1\" class=\"dataframe\">\n",
       "  <thead>\n",
       "    <tr style=\"text-align: right;\">\n",
       "      <th></th>\n",
       "      <th>EmpID</th>\n",
       "      <th>Name</th>\n",
       "      <th>Age</th>\n",
       "      <th>Gender</th>\n",
       "      <th>Department</th>\n",
       "      <th>Salary</th>\n",
       "      <th>JoiningDate</th>\n",
       "      <th>PerformanceScore</th>\n",
       "      <th>WorkHours</th>\n",
       "    </tr>\n",
       "  </thead>\n",
       "  <tbody>\n",
       "    <tr>\n",
       "      <th>0</th>\n",
       "      <td>1</td>\n",
       "      <td>Employee_1</td>\n",
       "      <td>50</td>\n",
       "      <td>Female</td>\n",
       "      <td>Sales</td>\n",
       "      <td>90000.0</td>\n",
       "      <td>2015-01-01</td>\n",
       "      <td>3.0</td>\n",
       "      <td>43.0</td>\n",
       "    </tr>\n",
       "    <tr>\n",
       "      <th>1</th>\n",
       "      <td>2</td>\n",
       "      <td>Employee_2</td>\n",
       "      <td>36</td>\n",
       "      <td>Male</td>\n",
       "      <td>Finance</td>\n",
       "      <td>62500.0</td>\n",
       "      <td>2015-01-02</td>\n",
       "      <td>2.0</td>\n",
       "      <td>54.0</td>\n",
       "    </tr>\n",
       "    <tr>\n",
       "      <th>2</th>\n",
       "      <td>3</td>\n",
       "      <td>Employee_3</td>\n",
       "      <td>29</td>\n",
       "      <td>Male</td>\n",
       "      <td>Finance</td>\n",
       "      <td>39500.0</td>\n",
       "      <td>2015-01-03</td>\n",
       "      <td>1.0</td>\n",
       "      <td>54.0</td>\n",
       "    </tr>\n",
       "    <tr>\n",
       "      <th>3</th>\n",
       "      <td>4</td>\n",
       "      <td>Employee_4</td>\n",
       "      <td>42</td>\n",
       "      <td>Male</td>\n",
       "      <td>Sales</td>\n",
       "      <td>35000.0</td>\n",
       "      <td>2015-01-04</td>\n",
       "      <td>4.0</td>\n",
       "      <td>37.0</td>\n",
       "    </tr>\n",
       "    <tr>\n",
       "      <th>4</th>\n",
       "      <td>5</td>\n",
       "      <td>Employee_5</td>\n",
       "      <td>40</td>\n",
       "      <td>Male</td>\n",
       "      <td>Finance</td>\n",
       "      <td>41500.0</td>\n",
       "      <td>2015-01-05</td>\n",
       "      <td>4.0</td>\n",
       "      <td>37.0</td>\n",
       "    </tr>\n",
       "  </tbody>\n",
       "</table>\n",
       "</div>"
      ],
      "text/plain": [
       "   EmpID        Name  Age  Gender Department   Salary JoiningDate  \\\n",
       "0      1  Employee_1   50  Female      Sales  90000.0  2015-01-01   \n",
       "1      2  Employee_2   36    Male    Finance  62500.0  2015-01-02   \n",
       "2      3  Employee_3   29    Male    Finance  39500.0  2015-01-03   \n",
       "3      4  Employee_4   42    Male      Sales  35000.0  2015-01-04   \n",
       "4      5  Employee_5   40    Male    Finance  41500.0  2015-01-05   \n",
       "\n",
       "   PerformanceScore  WorkHours  \n",
       "0               3.0       43.0  \n",
       "1               2.0       54.0  \n",
       "2               1.0       54.0  \n",
       "3               4.0       37.0  \n",
       "4               4.0       37.0  "
      ]
     },
     "execution_count": 230,
     "metadata": {},
     "output_type": "execute_result"
    }
   ],
   "source": [
    "df.head()"
   ]
  },
  {
   "cell_type": "code",
   "execution_count": 231,
   "id": "59d98587",
   "metadata": {},
   "outputs": [
    {
     "name": "stdout",
     "output_type": "stream",
     "text": [
      "<class 'pandas.core.frame.DataFrame'>\n",
      "RangeIndex: 1000 entries, 0 to 999\n",
      "Data columns (total 9 columns):\n",
      " #   Column            Non-Null Count  Dtype  \n",
      "---  ------            --------------  -----  \n",
      " 0   EmpID             1000 non-null   int64  \n",
      " 1   Name              1000 non-null   object \n",
      " 2   Age               1000 non-null   int64  \n",
      " 3   Gender            1000 non-null   object \n",
      " 4   Department        1000 non-null   object \n",
      " 5   Salary            995 non-null    float64\n",
      " 6   JoiningDate       1000 non-null   object \n",
      " 7   PerformanceScore  823 non-null    float64\n",
      " 8   WorkHours         963 non-null    float64\n",
      "dtypes: float64(3), int64(2), object(4)\n",
      "memory usage: 70.4+ KB\n"
     ]
    }
   ],
   "source": [
    "df.info()"
   ]
  },
  {
   "cell_type": "code",
   "execution_count": 232,
   "id": "866d016a",
   "metadata": {},
   "outputs": [
    {
     "data": {
      "text/plain": [
       "(1000, 9)"
      ]
     },
     "execution_count": 232,
     "metadata": {},
     "output_type": "execute_result"
    }
   ],
   "source": [
    "df.shape"
   ]
  },
  {
   "cell_type": "code",
   "execution_count": 233,
   "id": "d295592b",
   "metadata": {},
   "outputs": [
    {
     "data": {
      "text/plain": [
       "EmpID                 0\n",
       "Name                  0\n",
       "Age                   0\n",
       "Gender                0\n",
       "Department            0\n",
       "Salary                5\n",
       "JoiningDate           0\n",
       "PerformanceScore    177\n",
       "WorkHours            37\n",
       "dtype: int64"
      ]
     },
     "execution_count": 233,
     "metadata": {},
     "output_type": "execute_result"
    }
   ],
   "source": [
    "df.isnull().sum()"
   ]
  },
  {
   "cell_type": "code",
   "execution_count": 234,
   "id": "c0c3d18e",
   "metadata": {},
   "outputs": [],
   "source": [
    "df['Salary'].dropna(inplace=True)"
   ]
  },
  {
   "cell_type": "code",
   "execution_count": 235,
   "id": "98a65919",
   "metadata": {},
   "outputs": [
    {
     "data": {
      "text/plain": [
       "5"
      ]
     },
     "execution_count": 235,
     "metadata": {},
     "output_type": "execute_result"
    }
   ],
   "source": [
    "df['Salary'].isnull().sum()"
   ]
  },
  {
   "cell_type": "code",
   "execution_count": 236,
   "id": "c7324052",
   "metadata": {},
   "outputs": [],
   "source": [
    "df['Salary']=df['Salary'].dropna()"
   ]
  },
  {
   "cell_type": "code",
   "execution_count": 237,
   "id": "92a1b15a",
   "metadata": {},
   "outputs": [
    {
     "data": {
      "text/plain": [
       "EmpID                 0\n",
       "Name                  0\n",
       "Age                   0\n",
       "Gender                0\n",
       "Department            0\n",
       "Salary                5\n",
       "JoiningDate           0\n",
       "PerformanceScore    177\n",
       "WorkHours            37\n",
       "dtype: int64"
      ]
     },
     "execution_count": 237,
     "metadata": {},
     "output_type": "execute_result"
    }
   ],
   "source": [
    "df.isnull().sum()"
   ]
  },
  {
   "cell_type": "code",
   "execution_count": 238,
   "id": "8ab3eb2a",
   "metadata": {},
   "outputs": [],
   "source": [
    "df['Salary'] = pd.to_numeric(df['Salary'])\n",
    "df['WorkHours'] = pd.to_numeric(df['WorkHours'])"
   ]
  },
  {
   "cell_type": "code",
   "execution_count": 239,
   "id": "dc7a94a5",
   "metadata": {},
   "outputs": [],
   "source": [
    "df_cleaned = df.dropna(subset=['Salary','WorkHours'])"
   ]
  },
  {
   "cell_type": "code",
   "execution_count": 240,
   "id": "c430b813",
   "metadata": {},
   "outputs": [
    {
     "data": {
      "text/plain": [
       "(1000, 9)"
      ]
     },
     "execution_count": 240,
     "metadata": {},
     "output_type": "execute_result"
    }
   ],
   "source": [
    "df.shape"
   ]
  },
  {
   "cell_type": "code",
   "execution_count": 241,
   "id": "1a870f58",
   "metadata": {},
   "outputs": [
    {
     "data": {
      "text/plain": [
       "(958, 9)"
      ]
     },
     "execution_count": 241,
     "metadata": {},
     "output_type": "execute_result"
    }
   ],
   "source": [
    "df_cleaned.shape"
   ]
  },
  {
   "cell_type": "code",
   "execution_count": 242,
   "id": "e144cf07",
   "metadata": {},
   "outputs": [],
   "source": [
    "df=df_cleaned"
   ]
  },
  {
   "cell_type": "code",
   "execution_count": 243,
   "id": "25d0ee34",
   "metadata": {},
   "outputs": [
    {
     "data": {
      "text/plain": [
       "EmpID                 0\n",
       "Name                  0\n",
       "Age                   0\n",
       "Gender                0\n",
       "Department            0\n",
       "Salary                0\n",
       "JoiningDate           0\n",
       "PerformanceScore    169\n",
       "WorkHours             0\n",
       "dtype: int64"
      ]
     },
     "execution_count": 243,
     "metadata": {},
     "output_type": "execute_result"
    }
   ],
   "source": [
    "df.isnull().sum()"
   ]
  },
  {
   "cell_type": "code",
   "execution_count": 244,
   "id": "1db98a81",
   "metadata": {},
   "outputs": [
    {
     "name": "stderr",
     "output_type": "stream",
     "text": [
      "C:\\Users\\tejas\\AppData\\Local\\Temp\\ipykernel_3780\\4286025889.py:1: FutureWarning: A value is trying to be set on a copy of a DataFrame or Series through chained assignment using an inplace method.\n",
      "The behavior will change in pandas 3.0. This inplace method will never work because the intermediate object on which we are setting values always behaves as a copy.\n",
      "\n",
      "For example, when doing 'df[col].method(value, inplace=True)', try using 'df.method({col: value}, inplace=True)' or df[col] = df[col].method(value) instead, to perform the operation inplace on the original object.\n",
      "\n",
      "\n",
      "  df['PerformanceScore'].fillna(df['PerformanceScore'].mean(),inplace=True)\n",
      "C:\\Users\\tejas\\AppData\\Local\\Temp\\ipykernel_3780\\4286025889.py:1: SettingWithCopyWarning: \n",
      "A value is trying to be set on a copy of a slice from a DataFrame\n",
      "\n",
      "See the caveats in the documentation: https://pandas.pydata.org/pandas-docs/stable/user_guide/indexing.html#returning-a-view-versus-a-copy\n",
      "  df['PerformanceScore'].fillna(df['PerformanceScore'].mean(),inplace=True)\n"
     ]
    }
   ],
   "source": [
    "df['PerformanceScore'].fillna(df['PerformanceScore'].mean(),inplace=True)"
   ]
  },
  {
   "cell_type": "code",
   "execution_count": 254,
   "id": "786175b6",
   "metadata": {},
   "outputs": [
    {
     "data": {
      "text/plain": [
       "EmpID               0\n",
       "Name                0\n",
       "Age                 0\n",
       "Gender              0\n",
       "Department          0\n",
       "Salary              0\n",
       "JoiningDate         0\n",
       "PerformanceScore    0\n",
       "WorkHours           0\n",
       "dtype: int64"
      ]
     },
     "execution_count": 254,
     "metadata": {},
     "output_type": "execute_result"
    }
   ],
   "source": [
    "df.isnull().sum()"
   ]
  },
  {
   "cell_type": "code",
   "execution_count": 255,
   "id": "023ecc90",
   "metadata": {},
   "outputs": [
    {
     "data": {
      "text/plain": [
       "0"
      ]
     },
     "execution_count": 255,
     "metadata": {},
     "output_type": "execute_result"
    }
   ],
   "source": [
    "df.duplicated().sum()"
   ]
  },
  {
   "cell_type": "code",
   "execution_count": 256,
   "id": "6df2a555",
   "metadata": {},
   "outputs": [
    {
     "data": {
      "text/plain": [
       "Department\n",
       "Finance      62582.500000\n",
       "HR           64302.702703\n",
       "IT           58803.125000\n",
       "Marketing    63688.118812\n",
       "Sales        62011.848341\n",
       "Name: Salary, dtype: float64"
      ]
     },
     "execution_count": 256,
     "metadata": {},
     "output_type": "execute_result"
    }
   ],
   "source": [
    "df.groupby('Department')['Salary'].mean()"
   ]
  },
  {
   "cell_type": "code",
   "execution_count": 257,
   "id": "8e18dfc8",
   "metadata": {},
   "outputs": [],
   "source": [
    "# df.groupby('Department')['Salary','PerformanceScore'].mean()"
   ]
  },
  {
   "cell_type": "code",
   "execution_count": null,
   "id": "13b903e0",
   "metadata": {},
   "outputs": [],
   "source": []
  }
 ],
 "metadata": {
  "kernelspec": {
   "display_name": "base",
   "language": "python",
   "name": "python3"
  },
  "language_info": {
   "codemirror_mode": {
    "name": "ipython",
    "version": 3
   },
   "file_extension": ".py",
   "mimetype": "text/x-python",
   "name": "python",
   "nbconvert_exporter": "python",
   "pygments_lexer": "ipython3",
   "version": "3.12.7"
  }
 },
 "nbformat": 4,
 "nbformat_minor": 5
}
