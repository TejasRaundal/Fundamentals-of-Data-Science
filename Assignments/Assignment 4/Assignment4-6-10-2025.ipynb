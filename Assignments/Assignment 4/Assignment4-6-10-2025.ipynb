{
 "cells": [
  {
   "cell_type": "code",
   "execution_count": 14,
   "id": "18df6fd8",
   "metadata": {},
   "outputs": [],
   "source": [
    "import pandas as pd"
   ]
  },
  {
   "cell_type": "code",
   "execution_count": 15,
   "id": "aee119f8",
   "metadata": {},
   "outputs": [],
   "source": [
    "df = pd.read_csv('student_marks.csv')"
   ]
  },
  {
   "cell_type": "code",
   "execution_count": 16,
   "id": "638f43c0",
   "metadata": {},
   "outputs": [],
   "source": [
    "data = df['Marks'].to_list()"
   ]
  },
  {
   "cell_type": "code",
   "execution_count": 17,
   "id": "2a5e0e4b",
   "metadata": {},
   "outputs": [
    {
     "data": {
      "text/plain": [
       "[78, 65, 80, 92, 85, 75, 88, 90, 70, 85]"
      ]
     },
     "execution_count": 17,
     "metadata": {},
     "output_type": "execute_result"
    }
   ],
   "source": [
    "data"
   ]
  },
  {
   "cell_type": "code",
   "execution_count": 18,
   "id": "3404568b",
   "metadata": {},
   "outputs": [],
   "source": [
    "# Range\n",
    "def calculate_range(data):\n",
    "    return max(data) - min(data)\n",
    "    \n",
    "# Variance\n",
    "def calculate_variance(data):\n",
    "    mean = sum(data) / len(data)\n",
    "    squared_diffs = [(x - mean) ** 2 for x in data]\n",
    "    variance = sum(squared_diffs) / (len(data) - 1)  # sample variance\n",
    "    return variance\n",
    "\n",
    "# Standard Deviation\n",
    "def calculate_std_dev(data):\n",
    "    variance = calculate_variance(data)\n",
    "    return variance ** 0.5\n"
   ]
  },
  {
   "cell_type": "code",
   "execution_count": 19,
   "id": "6cd6d1cb",
   "metadata": {},
   "outputs": [
    {
     "name": "stdout",
     "output_type": "stream",
     "text": [
      "Central Tendency With Inbuilt Functions\n",
      "Range: 27\n",
      "Variance: 78.4\n",
      "Standard Deviation: 8.854377448471462\n"
     ]
    }
   ],
   "source": [
    "# Output\n",
    "print('Central Tendency With Inbuilt Functions')\n",
    "print(f'Range: {calculate_range(data)}')\n",
    "print(f'Variance: {calculate_variance(data)}')\n",
    "print(f'Standard Deviation: {calculate_std_dev(data)}')"
   ]
  },
  {
   "cell_type": "code",
   "execution_count": 20,
   "id": "89014d83",
   "metadata": {},
   "outputs": [
    {
     "name": "stdout",
     "output_type": "stream",
     "text": [
      "Central Tendency With Inbuilt Functions\n",
      "Range: 27\n",
      "Variance: 78.4\n",
      "Standard Deviation: 8.854377448471462\n"
     ]
    }
   ],
   "source": [
    "from statistics import variance, stdev\n",
    "\n",
    "range = max(data) - min(data)\n",
    "\n",
    "# Output\n",
    "print('Central Tendency With Inbuilt Functions')\n",
    "print(f'Range: {range}')\n",
    "print(f'Variance: {variance(data)}')\n",
    "print(f'Standard Deviation: {stdev(data)}')"
   ]
  }
 ],
 "metadata": {
  "kernelspec": {
   "display_name": "base",
   "language": "python",
   "name": "python3"
  },
  "language_info": {
   "codemirror_mode": {
    "name": "ipython",
    "version": 3
   },
   "file_extension": ".py",
   "mimetype": "text/x-python",
   "name": "python",
   "nbconvert_exporter": "python",
   "pygments_lexer": "ipython3",
   "version": "3.12.7"
  }
 },
 "nbformat": 4,
 "nbformat_minor": 5
}
