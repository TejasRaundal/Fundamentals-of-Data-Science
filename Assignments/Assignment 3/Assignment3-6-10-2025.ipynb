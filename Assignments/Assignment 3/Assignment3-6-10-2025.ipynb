{
 "cells": [
  {
   "cell_type": "code",
   "execution_count": 19,
   "id": "07345e03",
   "metadata": {},
   "outputs": [],
   "source": [
    "import pandas as pd\n",
    "\n",
    "students_marks = {\n",
    "    'roll_no' : [1,2,3,4,5,6,7,8,9,10],\n",
    "    'marks' : [99,75,65,89,23,65,94,67,86,72]\n",
    "}\n",
    "\n",
    "df = pd.DataFrame(students_marks)"
   ]
  },
  {
   "cell_type": "code",
   "execution_count": 20,
   "id": "ec0b22e8",
   "metadata": {},
   "outputs": [
    {
     "data": {
      "text/html": [
       "<div>\n",
       "<style scoped>\n",
       "    .dataframe tbody tr th:only-of-type {\n",
       "        vertical-align: middle;\n",
       "    }\n",
       "\n",
       "    .dataframe tbody tr th {\n",
       "        vertical-align: top;\n",
       "    }\n",
       "\n",
       "    .dataframe thead th {\n",
       "        text-align: right;\n",
       "    }\n",
       "</style>\n",
       "<table border=\"1\" class=\"dataframe\">\n",
       "  <thead>\n",
       "    <tr style=\"text-align: right;\">\n",
       "      <th></th>\n",
       "      <th>roll_no</th>\n",
       "      <th>marks</th>\n",
       "    </tr>\n",
       "  </thead>\n",
       "  <tbody>\n",
       "    <tr>\n",
       "      <th>0</th>\n",
       "      <td>1</td>\n",
       "      <td>99</td>\n",
       "    </tr>\n",
       "    <tr>\n",
       "      <th>1</th>\n",
       "      <td>2</td>\n",
       "      <td>75</td>\n",
       "    </tr>\n",
       "    <tr>\n",
       "      <th>2</th>\n",
       "      <td>3</td>\n",
       "      <td>65</td>\n",
       "    </tr>\n",
       "    <tr>\n",
       "      <th>3</th>\n",
       "      <td>4</td>\n",
       "      <td>89</td>\n",
       "    </tr>\n",
       "    <tr>\n",
       "      <th>4</th>\n",
       "      <td>5</td>\n",
       "      <td>23</td>\n",
       "    </tr>\n",
       "    <tr>\n",
       "      <th>5</th>\n",
       "      <td>6</td>\n",
       "      <td>65</td>\n",
       "    </tr>\n",
       "    <tr>\n",
       "      <th>6</th>\n",
       "      <td>7</td>\n",
       "      <td>94</td>\n",
       "    </tr>\n",
       "    <tr>\n",
       "      <th>7</th>\n",
       "      <td>8</td>\n",
       "      <td>67</td>\n",
       "    </tr>\n",
       "    <tr>\n",
       "      <th>8</th>\n",
       "      <td>9</td>\n",
       "      <td>86</td>\n",
       "    </tr>\n",
       "    <tr>\n",
       "      <th>9</th>\n",
       "      <td>10</td>\n",
       "      <td>72</td>\n",
       "    </tr>\n",
       "  </tbody>\n",
       "</table>\n",
       "</div>"
      ],
      "text/plain": [
       "   roll_no  marks\n",
       "0        1     99\n",
       "1        2     75\n",
       "2        3     65\n",
       "3        4     89\n",
       "4        5     23\n",
       "5        6     65\n",
       "6        7     94\n",
       "7        8     67\n",
       "8        9     86\n",
       "9       10     72"
      ]
     },
     "execution_count": 20,
     "metadata": {},
     "output_type": "execute_result"
    }
   ],
   "source": [
    "df"
   ]
  },
  {
   "cell_type": "code",
   "execution_count": 21,
   "id": "88d4ac70",
   "metadata": {},
   "outputs": [],
   "source": [
    "df.to_csv('Students_Marks.csv')"
   ]
  },
  {
   "cell_type": "code",
   "execution_count": 22,
   "id": "66ea6780",
   "metadata": {},
   "outputs": [],
   "source": [
    "new_df = pd.read_csv('Students_Marks.csv')"
   ]
  },
  {
   "cell_type": "code",
   "execution_count": 23,
   "id": "9db5ca28",
   "metadata": {},
   "outputs": [],
   "source": [
    "data = new_df['marks'].to_list()"
   ]
  },
  {
   "cell_type": "code",
   "execution_count": 24,
   "id": "8cb46845",
   "metadata": {},
   "outputs": [
    {
     "data": {
      "text/plain": [
       "[99, 75, 65, 89, 23, 65, 94, 67, 86, 72]"
      ]
     },
     "execution_count": 24,
     "metadata": {},
     "output_type": "execute_result"
    }
   ],
   "source": [
    "data"
   ]
  },
  {
   "cell_type": "markdown",
   "id": "8abfda63",
   "metadata": {},
   "source": [
    "# Measure of Central Tendency"
   ]
  },
  {
   "cell_type": "code",
   "execution_count": 25,
   "id": "0a38a1ba",
   "metadata": {},
   "outputs": [],
   "source": [
    "# Mean\n",
    "def calculate_mean(data):\n",
    "    mean = sum(data)/len(data)\n",
    "    return mean\n",
    "\n",
    "# Medians\n",
    "def calculate_median(data):\n",
    "    sorted_data = sorted(data)\n",
    "    n = len(sorted_data)\n",
    "    mid = n // 2\n",
    "    if n % 2 == 0:\n",
    "        median = (sorted_data[mid - 1] + sorted_data[mid]) / 2\n",
    "    else:\n",
    "        median = sorted_data[mid]\n",
    "    return median\n",
    "\n",
    "# Mode\n",
    "def calculte_mode(data):\n",
    "    freq = {}\n",
    "    for val in data:\n",
    "        freq[val] = freq.get(val, 0) + 1\n",
    "    max_freq = max(freq.values())\n",
    "    mode = [key for key, value in freq.items() if value == max_freq]\n",
    "    return mode[0]\n"
   ]
  },
  {
   "cell_type": "code",
   "execution_count": null,
   "id": "ebc75cd5",
   "metadata": {},
   "outputs": [
    {
     "name": "stdout",
     "output_type": "stream",
     "text": [
      "Central Tendency Inbuilt Functions\n",
      "Mean: 73.5\n",
      "Median: 73.5\n",
      "Mode: 65\n"
     ]
    }
   ],
   "source": [
    "# Output\n",
    "print('Central Tendency Without Inbuilt Functions')\n",
    "print(f'Mean: {calculate_mean(data)}')\n",
    "print(f'Median: {calculate_median(data)}')\n",
    "print(f'Mode: {calculte_mode(data)}')"
   ]
  },
  {
   "cell_type": "code",
   "execution_count": null,
   "metadata": {},
   "outputs": [
    {
     "name": "stdout",
     "output_type": "stream",
     "text": [
      "Central Tendency With Inbuilt Functions\n",
      "Mean: 73.5\n",
      "Median: 73.5\n",
      "Mode: 65\n"
     ]
    }
   ],
   "source": [
    "from statistics import mean, median, mode\n",
    "\n",
    "# Output\n",
    "print('Central Tendency With Inbuilt Functions')\n",
    "print(f'Mean: {mean(data)}')\n",
    "print(f'Median: {median(data)}')\n",
    "print(f'Mode: {mode(data)}')"
   ]
  }
 ],
 "metadata": {
  "kernelspec": {
   "display_name": "base",
   "language": "python",
   "name": "python3"
  },
  "language_info": {
   "codemirror_mode": {
    "name": "ipython",
    "version": 3
   },
   "file_extension": ".py",
   "mimetype": "text/x-python",
   "name": "python",
   "nbconvert_exporter": "python",
   "pygments_lexer": "ipython3",
   "version": "3.12.7"
  }
 },
 "nbformat": 4,
 "nbformat_minor": 5
}
