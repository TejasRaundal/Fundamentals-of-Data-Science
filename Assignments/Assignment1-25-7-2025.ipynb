{
 "cells": [
  {
   "cell_type": "code",
   "execution_count": 47,
   "id": "802a6f54",
   "metadata": {},
   "outputs": [],
   "source": [
    "import numpy as np\n",
    "import pandas as pd"
   ]
  },
  {
   "cell_type": "code",
   "execution_count": 48,
   "id": "75b76f56",
   "metadata": {},
   "outputs": [
    {
     "data": {
      "text/plain": [
       "'1.26.4'"
      ]
     },
     "execution_count": 48,
     "metadata": {},
     "output_type": "execute_result"
    }
   ],
   "source": [
    "np.__version__"
   ]
  },
  {
   "cell_type": "code",
   "execution_count": 49,
   "id": "5684b12e",
   "metadata": {},
   "outputs": [
    {
     "data": {
      "text/plain": [
       "'2.2.2'"
      ]
     },
     "execution_count": 49,
     "metadata": {},
     "output_type": "execute_result"
    }
   ],
   "source": [
    "pd.__version__"
   ]
  },
  {
   "cell_type": "code",
   "execution_count": 50,
   "id": "e3a39dbd",
   "metadata": {},
   "outputs": [
    {
     "data": {
      "text/plain": [
       "array([0., 0., 0., 0., 0.])"
      ]
     },
     "execution_count": 50,
     "metadata": {},
     "output_type": "execute_result"
    }
   ],
   "source": [
    "zeros_arr = np.zeros(5)\n",
    "zeros_arr"
   ]
  },
  {
   "cell_type": "code",
   "execution_count": 51,
   "id": "ea1d87fe",
   "metadata": {},
   "outputs": [
    {
     "data": {
      "text/plain": [
       "dtype('float64')"
      ]
     },
     "execution_count": 51,
     "metadata": {},
     "output_type": "execute_result"
    }
   ],
   "source": [
    "zeros_arr.dtype"
   ]
  },
  {
   "cell_type": "code",
   "execution_count": 52,
   "id": "3d6a9853",
   "metadata": {},
   "outputs": [
    {
     "data": {
      "text/plain": [
       "array([0, 0, 0, 0, 0])"
      ]
     },
     "execution_count": 52,
     "metadata": {},
     "output_type": "execute_result"
    }
   ],
   "source": [
    "int_zeros=zeros_arr.astype(int)\n",
    "int_zeros"
   ]
  },
  {
   "cell_type": "code",
   "execution_count": 53,
   "id": "fc9f93c5",
   "metadata": {},
   "outputs": [
    {
     "data": {
      "text/plain": [
       "dtype('int32')"
      ]
     },
     "execution_count": 53,
     "metadata": {},
     "output_type": "execute_result"
    }
   ],
   "source": [
    "int_zeros.dtype"
   ]
  },
  {
   "cell_type": "code",
   "execution_count": 54,
   "id": "d6a5e96e",
   "metadata": {},
   "outputs": [
    {
     "data": {
      "text/plain": [
       "array([0., 0., 0., 0., 0.])"
      ]
     },
     "execution_count": 54,
     "metadata": {},
     "output_type": "execute_result"
    }
   ],
   "source": [
    "float_zeros=int_zeros.astype(float)\n",
    "float_zeros"
   ]
  },
  {
   "cell_type": "code",
   "execution_count": 55,
   "id": "81c9a0c5",
   "metadata": {},
   "outputs": [
    {
     "data": {
      "text/plain": [
       "(4, 3)"
      ]
     },
     "execution_count": 55,
     "metadata": {},
     "output_type": "execute_result"
    }
   ],
   "source": [
    "a=np.array([[1,2,3],[4,5,6],[7,8,9], [10,11,12]])\n",
    "a.shape"
   ]
  },
  {
   "cell_type": "code",
   "execution_count": 56,
   "id": "5a91a46f",
   "metadata": {},
   "outputs": [],
   "source": [
    "b=np.random.randint(1,20,size=(4,3))"
   ]
  },
  {
   "cell_type": "code",
   "execution_count": 57,
   "id": "73a46b08",
   "metadata": {},
   "outputs": [
    {
     "data": {
      "text/plain": [
       "array([[ 3, 16, 18],\n",
       "       [ 7, 10, 10],\n",
       "       [16, 19, 12],\n",
       "       [12,  4,  5]])"
      ]
     },
     "execution_count": 57,
     "metadata": {},
     "output_type": "execute_result"
    }
   ],
   "source": [
    "b"
   ]
  },
  {
   "cell_type": "code",
   "execution_count": 58,
   "id": "4c42967a",
   "metadata": {},
   "outputs": [
    {
     "data": {
      "text/plain": [
       "(4, 3)"
      ]
     },
     "execution_count": 58,
     "metadata": {},
     "output_type": "execute_result"
    }
   ],
   "source": [
    "b.shape"
   ]
  },
  {
   "cell_type": "code",
   "execution_count": 59,
   "id": "ceeebf7e",
   "metadata": {},
   "outputs": [
    {
     "data": {
      "text/plain": [
       "array([[ 3,  7, 16, 12],\n",
       "       [16, 10, 19,  4],\n",
       "       [18, 10, 12,  5]])"
      ]
     },
     "execution_count": 59,
     "metadata": {},
     "output_type": "execute_result"
    }
   ],
   "source": [
    "np.swapaxes(b,0,1)"
   ]
  },
  {
   "cell_type": "code",
   "execution_count": 60,
   "id": "585b2420",
   "metadata": {},
   "outputs": [
    {
     "data": {
      "text/plain": [
       "19"
      ]
     },
     "execution_count": 60,
     "metadata": {},
     "output_type": "execute_result"
    }
   ],
   "source": [
    "np.max(b)"
   ]
  },
  {
   "cell_type": "code",
   "execution_count": 61,
   "id": "f6cfcc79",
   "metadata": {},
   "outputs": [
    {
     "data": {
      "text/plain": [
       "(4, 3)"
      ]
     },
     "execution_count": 61,
     "metadata": {},
     "output_type": "execute_result"
    }
   ],
   "source": [
    "b.shape"
   ]
  },
  {
   "cell_type": "code",
   "execution_count": 62,
   "id": "c284b4d4",
   "metadata": {},
   "outputs": [],
   "source": [
    "reshaped=b.reshape(3,4)"
   ]
  },
  {
   "cell_type": "code",
   "execution_count": 63,
   "id": "79385edc",
   "metadata": {},
   "outputs": [
    {
     "data": {
      "text/plain": [
       "(3, 4)"
      ]
     },
     "execution_count": 63,
     "metadata": {},
     "output_type": "execute_result"
    }
   ],
   "source": [
    "reshaped.shape"
   ]
  },
  {
   "cell_type": "code",
   "execution_count": 64,
   "id": "ad2a00bf",
   "metadata": {},
   "outputs": [
    {
     "data": {
      "text/plain": [
       "array([1, 2, 3, 4, 6])"
      ]
     },
     "execution_count": 64,
     "metadata": {},
     "output_type": "execute_result"
    }
   ],
   "source": [
    "np.linspace(1,6,5, dtype=\"int\")"
   ]
  },
  {
   "cell_type": "code",
   "execution_count": 65,
   "id": "59154e52",
   "metadata": {},
   "outputs": [
    {
     "data": {
      "text/plain": [
       "array([ 1, 65, 75, 89, 24])"
      ]
     },
     "execution_count": 65,
     "metadata": {},
     "output_type": "execute_result"
    }
   ],
   "source": [
    "arr =np.array([1,65,75,89,24])\n",
    "arr"
   ]
  },
  {
   "cell_type": "code",
   "execution_count": 66,
   "id": "f85f9148",
   "metadata": {},
   "outputs": [
    {
     "data": {
      "text/plain": [
       "array([[ 1, 64,  8,  6,  9],\n",
       "       [ 5, 65, 75, 89, 24]])"
      ]
     },
     "execution_count": 66,
     "metadata": {},
     "output_type": "execute_result"
    }
   ],
   "source": [
    "arr =np.array([[1,65,75,89,24],[5,64,8,6,9]])\n",
    "np.sort(arr,axis=0)"
   ]
  },
  {
   "cell_type": "code",
   "execution_count": 67,
   "id": "6cdb8b2a",
   "metadata": {},
   "outputs": [
    {
     "data": {
      "text/plain": [
       "array([[ 1, 24, 65, 75, 89],\n",
       "       [ 5,  6,  8,  9, 64]])"
      ]
     },
     "execution_count": 67,
     "metadata": {},
     "output_type": "execute_result"
    }
   ],
   "source": [
    "np.sort(arr,axis=1)"
   ]
  },
  {
   "cell_type": "code",
   "execution_count": 68,
   "id": "79bea2d1",
   "metadata": {},
   "outputs": [
    {
     "name": "stdout",
     "output_type": "stream",
     "text": [
      "\u001b[1;31mType:\u001b[0m        ndarray\n",
      "\u001b[1;31mString form:\u001b[0m\n",
      "[[ 1 65 75 89 24]\n",
      " [ 5 64  8  6  9]]\n",
      "\u001b[1;31mLength:\u001b[0m      2\n",
      "\u001b[1;31mFile:\u001b[0m        c:\\users\\tejas\\anaconda3\\lib\\site-packages\\numpy\\__init__.py\n",
      "\u001b[1;31mDocstring:\u001b[0m  \n",
      "ndarray(shape, dtype=float, buffer=None, offset=0,\n",
      "        strides=None, order=None)\n",
      "\n",
      "An array object represents a multidimensional, homogeneous array\n",
      "of fixed-size items.  An associated data-type object describes the\n",
      "format of each element in the array (its byte-order, how many bytes it\n",
      "occupies in memory, whether it is an integer, a floating point number,\n",
      "or something else, etc.)\n",
      "\n",
      "Arrays should be constructed using `array`, `zeros` or `empty` (refer\n",
      "to the See Also section below).  The parameters given here refer to\n",
      "a low-level method (`ndarray(...)`) for instantiating an array.\n",
      "\n",
      "For more information, refer to the `numpy` module and examine the\n",
      "methods and attributes of an array.\n",
      "\n",
      "Parameters\n",
      "----------\n",
      "(for the __new__ method; see Notes below)\n",
      "\n",
      "shape : tuple of ints\n",
      "    Shape of created array.\n",
      "dtype : data-type, optional\n",
      "    Any object that can be interpreted as a numpy data type.\n",
      "buffer : object exposing buffer interface, optional\n",
      "    Used to fill the array with data.\n",
      "offset : int, optional\n",
      "    Offset of array data in buffer.\n",
      "strides : tuple of ints, optional\n",
      "    Strides of data in memory.\n",
      "order : {'C', 'F'}, optional\n",
      "    Row-major (C-style) or column-major (Fortran-style) order.\n",
      "\n",
      "Attributes\n",
      "----------\n",
      "T : ndarray\n",
      "    Transpose of the array.\n",
      "data : buffer\n",
      "    The array's elements, in memory.\n",
      "dtype : dtype object\n",
      "    Describes the format of the elements in the array.\n",
      "flags : dict\n",
      "    Dictionary containing information related to memory use, e.g.,\n",
      "    'C_CONTIGUOUS', 'OWNDATA', 'WRITEABLE', etc.\n",
      "flat : numpy.flatiter object\n",
      "    Flattened version of the array as an iterator.  The iterator\n",
      "    allows assignments, e.g., ``x.flat = 3`` (See `ndarray.flat` for\n",
      "    assignment examples; TODO).\n",
      "imag : ndarray\n",
      "    Imaginary part of the array.\n",
      "real : ndarray\n",
      "    Real part of the array.\n",
      "size : int\n",
      "    Number of elements in the array.\n",
      "itemsize : int\n",
      "    The memory use of each array element in bytes.\n",
      "nbytes : int\n",
      "    The total number of bytes required to store the array data,\n",
      "    i.e., ``itemsize * size``.\n",
      "ndim : int\n",
      "    The array's number of dimensions.\n",
      "shape : tuple of ints\n",
      "    Shape of the array.\n",
      "strides : tuple of ints\n",
      "    The step-size required to move from one element to the next in\n",
      "    memory. For example, a contiguous ``(3, 4)`` array of type\n",
      "    ``int16`` in C-order has strides ``(8, 2)``.  This implies that\n",
      "    to move from element to element in memory requires jumps of 2 bytes.\n",
      "    To move from row-to-row, one needs to jump 8 bytes at a time\n",
      "    (``2 * 4``).\n",
      "ctypes : ctypes object\n",
      "    Class containing properties of the array needed for interaction\n",
      "    with ctypes.\n",
      "base : ndarray\n",
      "    If the array is a view into another array, that array is its `base`\n",
      "    (unless that array is also a view).  The `base` array is where the\n",
      "    array data is actually stored.\n",
      "\n",
      "See Also\n",
      "--------\n",
      "array : Construct an array.\n",
      "zeros : Create an array, each element of which is zero.\n",
      "empty : Create an array, but leave its allocated memory unchanged (i.e.,\n",
      "        it contains \"garbage\").\n",
      "dtype : Create a data-type.\n",
      "numpy.typing.NDArray : An ndarray alias :term:`generic <generic type>`\n",
      "                       w.r.t. its `dtype.type <numpy.dtype.type>`.\n",
      "\n",
      "Notes\n",
      "-----\n",
      "There are two modes of creating an array using ``__new__``:\n",
      "\n",
      "1. If `buffer` is None, then only `shape`, `dtype`, and `order`\n",
      "   are used.\n",
      "2. If `buffer` is an object exposing the buffer interface, then\n",
      "   all keywords are interpreted.\n",
      "\n",
      "No ``__init__`` method is needed because the array is fully initialized\n",
      "after the ``__new__`` method.\n",
      "\n",
      "Examples\n",
      "--------\n",
      "These examples illustrate the low-level `ndarray` constructor.  Refer\n",
      "to the `See Also` section above for easier ways of constructing an\n",
      "ndarray.\n",
      "\n",
      "First mode, `buffer` is None:\n",
      "\n",
      ">>> np.ndarray(shape=(2,2), dtype=float, order='F')\n",
      "array([[0.0e+000, 0.0e+000], # random\n",
      "       [     nan, 2.5e-323]])\n",
      "\n",
      "Second mode:\n",
      "\n",
      ">>> np.ndarray((2,), buffer=np.array([1,2,3]),\n",
      "...            offset=np.int_().itemsize,\n",
      "...            dtype=int) # offset = 1*itemsize, i.e. skip first element\n",
      "array([2, 3])"
     ]
    }
   ],
   "source": [
    "?arr"
   ]
  },
  {
   "cell_type": "code",
   "execution_count": 69,
   "id": "82eb8ced",
   "metadata": {},
   "outputs": [
    {
     "name": "stdout",
     "output_type": "stream",
     "text": [
      "['1' '2' '3' 'a']\n"
     ]
    },
    {
     "data": {
      "text/plain": [
       "dtype('<U11')"
      ]
     },
     "execution_count": 69,
     "metadata": {},
     "output_type": "execute_result"
    }
   ],
   "source": [
    "array1 = np.array([1, 2, 3, \"a\"]) # This will create an array with dtype 'U21' (Unicode string) because of the presence of a string element\n",
    "print(array1)\n",
    "array1.dtype"
   ]
  },
  {
   "cell_type": "code",
   "execution_count": 70,
   "id": "4fd3055a",
   "metadata": {},
   "outputs": [
    {
     "name": "stdout",
     "output_type": "stream",
     "text": [
      "First Element:  1\n",
      "a\n"
     ]
    }
   ],
   "source": [
    "# Indexing\n",
    "print(\"First Element: \",array1[0])\n",
    "print(array1[-1])"
   ]
  },
  {
   "cell_type": "code",
   "execution_count": 71,
   "id": "8320b199",
   "metadata": {},
   "outputs": [
    {
     "name": "stdout",
     "output_type": "stream",
     "text": [
      "[1. 2. 3.]\n"
     ]
    },
    {
     "data": {
      "text/plain": [
       "dtype('float64')"
      ]
     },
     "execution_count": 71,
     "metadata": {},
     "output_type": "execute_result"
    }
   ],
   "source": [
    "array1 = np.array([1.0, 2, 3]) # This will create an array with dtype 'float64' because all elements are numeric\n",
    "print(array1)\n",
    "array1.dtype"
   ]
  },
  {
   "cell_type": "code",
   "execution_count": 72,
   "id": "c5107fd8",
   "metadata": {},
   "outputs": [
    {
     "data": {
      "text/plain": [
       "2.0"
      ]
     },
     "execution_count": 72,
     "metadata": {},
     "output_type": "execute_result"
    }
   ],
   "source": [
    "array1[1] # Accessing the second element of the array"
   ]
  },
  {
   "cell_type": "code",
   "execution_count": 73,
   "id": "7ded9fd1",
   "metadata": {},
   "outputs": [
    {
     "data": {
      "text/plain": [
       "3.0"
      ]
     },
     "execution_count": 73,
     "metadata": {},
     "output_type": "execute_result"
    }
   ],
   "source": [
    "array1[-1] # Accessing the last element"
   ]
  },
  {
   "cell_type": "code",
   "execution_count": 74,
   "id": "d1599a14",
   "metadata": {},
   "outputs": [
    {
     "data": {
      "text/plain": [
       "array([ 2,  3,  4,  5,  6,  7,  8,  9, 10])"
      ]
     },
     "execution_count": 74,
     "metadata": {},
     "output_type": "execute_result"
    }
   ],
   "source": [
    "array3=np.arange(2,11) # Creating an array with values from 2 to 10\n",
    "array3"
   ]
  },
  {
   "cell_type": "code",
   "execution_count": 75,
   "id": "a8426fa3",
   "metadata": {},
   "outputs": [
    {
     "data": {
      "text/plain": [
       "array([[ 2,  3,  4],\n",
       "       [ 5,  6,  7],\n",
       "       [ 8,  9, 10]])"
      ]
     },
     "execution_count": 75,
     "metadata": {},
     "output_type": "execute_result"
    }
   ],
   "source": [
    "b = array3.reshape(3,3) # Reshaping the array to a 3x3 matrix   \n",
    "b"
   ]
  },
  {
   "cell_type": "code",
   "execution_count": 76,
   "id": "0c9a2e67",
   "metadata": {},
   "outputs": [
    {
     "name": "stdout",
     "output_type": "stream",
     "text": [
      "[[1 2 3]\n",
      " [2 3 4]]\n",
      "[[10 12 13]\n",
      " [12 13 14]]\n"
     ]
    }
   ],
   "source": [
    "x = np.array([[1,2,3],[2,3,4]]) # Creating a 2D array\n",
    "y = np.array([[10,12,13],[12,13,14]]) \n",
    "print(x)\n",
    "print(y)"
   ]
  },
  {
   "cell_type": "code",
   "execution_count": 77,
   "id": "07139e52",
   "metadata": {},
   "outputs": [
    {
     "name": "stdout",
     "output_type": "stream",
     "text": [
      "[[11 14 16]\n",
      " [14 16 18]]\n"
     ]
    }
   ],
   "source": [
    "z = x + y # Adding two arrays\n",
    "print(z)"
   ]
  },
  {
   "cell_type": "code",
   "execution_count": 78,
   "id": "3db303a9",
   "metadata": {},
   "outputs": [
    {
     "name": "stdout",
     "output_type": "stream",
     "text": [
      "[[10 24 39]\n",
      " [24 39 56]]\n"
     ]
    }
   ],
   "source": [
    "import numpy as np\n",
    "x = np.array([[1,2,3],[2,3,4]]) # Creating a 2D array\n",
    "y = np.array([[10,12,13],[12,13,14]])\n",
    "w = x * y # Element-wise multiplication of two arrays\n",
    "print(w)"
   ]
  },
  {
   "cell_type": "code",
   "execution_count": 79,
   "id": "ff4680d0",
   "metadata": {},
   "outputs": [
    {
     "name": "stdout",
     "output_type": "stream",
     "text": [
      "[1 2 3 4 5]\n"
     ]
    }
   ],
   "source": [
    "array1 = np.array([1, 2, 3, 4, 5])\n",
    "print(array1)"
   ]
  },
  {
   "cell_type": "code",
   "execution_count": 80,
   "id": "e9f20277",
   "metadata": {},
   "outputs": [
    {
     "data": {
      "text/plain": [
       "array([1, 2, 3, 4, 5])"
      ]
     },
     "execution_count": 80,
     "metadata": {},
     "output_type": "execute_result"
    }
   ],
   "source": [
    "array1D = np.array([1,2,3,4,5]) # Creating a 1D array\n",
    "array1D"
   ]
  },
  {
   "cell_type": "code",
   "execution_count": 81,
   "id": "4018456f",
   "metadata": {},
   "outputs": [
    {
     "data": {
      "text/plain": [
       "array([[1, 2, 3],\n",
       "       [2, 3, 4]])"
      ]
     },
     "execution_count": 81,
     "metadata": {},
     "output_type": "execute_result"
    }
   ],
   "source": [
    "array2D = np.array([[1,2,3],[2,3,4]]) # Creating a 2D array\n",
    "array2D"
   ]
  },
  {
   "cell_type": "code",
   "execution_count": 82,
   "id": "d8b4153e",
   "metadata": {},
   "outputs": [
    {
     "data": {
      "text/plain": [
       "array([[1, 2, 3],\n",
       "       [2, 3, 4],\n",
       "       [3, 4, 5]])"
      ]
     },
     "execution_count": 82,
     "metadata": {},
     "output_type": "execute_result"
    }
   ],
   "source": [
    "array3D = np.array([[1,2,3],[2,3,4],[3,4,5]]) # Creating a 3D array\n",
    "array3D"
   ]
  },
  {
   "cell_type": "code",
   "execution_count": 83,
   "id": "7e29819d",
   "metadata": {},
   "outputs": [
    {
     "name": "stdout",
     "output_type": "stream",
     "text": [
      "Object `array1D # This will show the DocString for the array1D object, which includes information about its attributes and methods.` not found.\n"
     ]
    }
   ],
   "source": [
    "?array1D # This will show the DocString for the array1D object, which includes information about its attributes and methods."
   ]
  },
  {
   "cell_type": "code",
   "execution_count": 84,
   "id": "07348558",
   "metadata": {},
   "outputs": [
    {
     "name": "stdout",
     "output_type": "stream",
     "text": [
      "3\n",
      "2\n"
     ]
    }
   ],
   "source": [
    "array1 = np.array([10, 20, 5, 40, 30])\n",
    "\n",
    "print(array1.argmax())  # Index of maximum value (40 → index 3)\n",
    "print(array1.argmin())  # Index of minimum value (5 → index 2)"
   ]
  },
  {
   "cell_type": "code",
   "execution_count": 85,
   "id": "83859383",
   "metadata": {},
   "outputs": [],
   "source": [
    "arr1 = np.array([10, 20, 30])\n",
    "arr2 = np.array([1, 2, 3])"
   ]
  },
  {
   "cell_type": "code",
   "execution_count": 86,
   "id": "7add5cb0",
   "metadata": {},
   "outputs": [
    {
     "name": "stdout",
     "output_type": "stream",
     "text": [
      "[11 22 33]\n",
      "[ 9 18 27]\n",
      "[10 40 90]\n",
      "[10. 10. 10.]\n",
      "[100 400 900]\n",
      "[0 0 0]\n",
      "[15 25 35]\n"
     ]
    }
   ],
   "source": [
    "# Addition\n",
    "print(arr1 + arr2)   # [11 22 33]\n",
    "\n",
    "# Subtraction\n",
    "print(arr1 - arr2)   # [ 9 18 27]\n",
    "\n",
    "# Multiplication\n",
    "print(arr1 * arr2)   # [10 40 90]\n",
    "\n",
    "# Division\n",
    "print(arr1 / arr2)   # [10. 10. 10.]\n",
    "\n",
    "# Power\n",
    "print(arr1 ** 2)     # [100 400 900]\n",
    "\n",
    "# Modulus\n",
    "print(arr1 % arr2)   # [0 0 0]\n",
    "\n",
    "# Combined (scalar + array)\n",
    "print(arr1 + 5)      # [15 25 35]"
   ]
  },
  {
   "cell_type": "code",
   "execution_count": 87,
   "id": "a37b9346",
   "metadata": {},
   "outputs": [
    {
     "name": "stdout",
     "output_type": "stream",
     "text": [
      "[ 0.   2.5  5.   7.5 10. ]\n"
     ]
    }
   ],
   "source": [
    "arr = np.linspace(0, 10, 5) # Creating an array with 5 evenly spaced values between 0 and 10\n",
    "print(arr)"
   ]
  },
  {
   "cell_type": "code",
   "execution_count": 88,
   "id": "aa4dfbb4",
   "metadata": {},
   "outputs": [
    {
     "name": "stdout",
     "output_type": "stream",
     "text": [
      "[ 5 10 15]\n"
     ]
    }
   ],
   "source": [
    "arr = np.array([10, 15, 25, 40]) \n",
    "print(np.diff(arr)) # Calculating the difference between consecutive elements in the array"
   ]
  }
 ],
 "metadata": {
  "kernelspec": {
   "display_name": "base",
   "language": "python",
   "name": "python3"
  },
  "language_info": {
   "codemirror_mode": {
    "name": "ipython",
    "version": 3
   },
   "file_extension": ".py",
   "mimetype": "text/x-python",
   "name": "python",
   "nbconvert_exporter": "python",
   "pygments_lexer": "ipython3",
   "version": "3.12.7"
  }
 },
 "nbformat": 4,
 "nbformat_minor": 5
}
